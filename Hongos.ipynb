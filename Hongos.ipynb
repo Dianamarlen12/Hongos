{
  "nbformat": 4,
  "nbformat_minor": 0,
  "metadata": {
    "colab": {
      "name": "Hongos.ipynb",
      "provenance": [],
      "authorship_tag": "ABX9TyPmfcLiSLw6YUj5XXRIqcbu",
      "include_colab_link": true
    },
    "kernelspec": {
      "name": "python3",
      "display_name": "Python 3"
    },
    "language_info": {
      "name": "python"
    }
  },
  "cells": [
    {
      "cell_type": "markdown",
      "metadata": {
        "id": "view-in-github",
        "colab_type": "text"
      },
      "source": [
        "<a href=\"https://colab.research.google.com/github/Dianamarlen12/Hongos/blob/main/Hongos.ipynb\" target=\"_parent\"><img src=\"https://colab.research.google.com/assets/colab-badge.svg\" alt=\"Open In Colab\"/></a>"
      ]
    },
    {
      "cell_type": "markdown",
      "metadata": {
        "id": "n31cDtwptOdY"
      },
      "source": [
        "* **Nombre del alumno:** Diana Marlen Meneses Alegria\n",
        "* **Matricula:** 1718110399\n",
        "* **Grupo:** IDGS91\n",
        "* **Fecha de entrega:** 19 de octubre del 2021\n",
        "\n",
        "\n"
      ]
    }
  ]
}